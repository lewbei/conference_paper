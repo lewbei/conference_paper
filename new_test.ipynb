{
 "cells": [
  {
   "cell_type": "code",
   "execution_count": 13,
   "id": "82d506c9-53d1-482e-8f8b-f5e7bb497bb6",
   "metadata": {},
   "outputs": [
    {
     "name": "stdout",
     "output_type": "stream",
     "text": [
      "Epoch 1/100, Loss: 113.748747\n",
      "Epoch 2/100, Loss: 27.313970\n",
      "Epoch 3/100, Loss: 17.735036\n",
      "Epoch 4/100, Loss: 15.739919\n",
      "Epoch 5/100, Loss: 15.790888\n",
      "Epoch 6/100, Loss: 13.105866\n",
      "Epoch 7/100, Loss: 15.149063\n",
      "Epoch 8/100, Loss: 14.091651\n"
     ]
    },
    {
     "name": "stderr",
     "output_type": "stream",
     "text": [
      "\n",
      "KeyboardInterrupt\n",
      "\n"
     ]
    }
   ],
   "source": [
    "import os\n",
    "import torch\n",
    "from torch.utils.data import Dataset, DataLoader\n",
    "import pandas as pd\n",
    "import torch.nn as nn\n",
    "import torch.nn.functional as F\n",
    "from skimage import io\n",
    "import numpy as np\n",
    "from timm.layers import BlurPool2d\n",
    "from torch.nn.utils import weight_norm\n",
    "\n",
    "###############################################\n",
    "# 1. Define the SEM Dataset\n",
    "###############################################\n",
    "class SEMDataset(Dataset):\n",
    "    def __init__(self, images_dir, labels_csv, transform=None):\n",
    "        \"\"\"\n",
    "        Args:\n",
    "            images_dir (str): Directory containing the .pt image files.\n",
    "            labels_csv (str): Path to CSV file with columns \"filename\" and \"snr_db\".\n",
    "            transform (callable, optional): Optional transform to be applied on an image tensor.\n",
    "        \"\"\"\n",
    "        self.images_dir = images_dir\n",
    "        self.labels_df = pd.read_csv(labels_csv)\n",
    "        self.transform = transform\n",
    "\n",
    "    def __len__(self):\n",
    "        return len(self.labels_df)\n",
    "\n",
    "    def __getitem__(self, idx):\n",
    "        row = self.labels_df.iloc[idx]\n",
    "        filename = row['filename']      # Name of the .pt file\n",
    "        label_db = row['snr_db']          # SNR value in dB\n",
    "        image_path = os.path.join(self.images_dir, filename)\n",
    "        # Use weights_only=True for safe loading.\n",
    "        image_tensor = torch.load(image_path, weights_only=True)  # Expected shape: (1, H, W)\n",
    "        if self.transform:\n",
    "            image_tensor = self.transform(image_tensor)\n",
    "        return image_tensor, label_db\n",
    "\n",
    "class EvoNormB0(nn.Module):\n",
    "    def __init__(self, num_features, eps=1e-5):\n",
    "        super(EvoNormB0, self).__init__()\n",
    "        # Learnable scaling and shifting parameters\n",
    "        self.gamma = nn.Parameter(torch.ones(1, num_features, 1, 1))\n",
    "        self.beta  = nn.Parameter(torch.zeros(1, num_features, 1, 1))\n",
    "        # Learnable parameter v that modulates the input (for nonlinearity)\n",
    "        self.v     = nn.Parameter(torch.ones(1, num_features, 1, 1))\n",
    "        self.eps   = eps\n",
    "\n",
    "    def forward(self, x):\n",
    "        # x shape: (B, C, H, W)\n",
    "        # Compute instance variance (over spatial dimensions)\n",
    "        inst_var = x.var(dim=[2, 3], keepdim=True, unbiased=False)\n",
    "        # Compute batch variance (over batch and spatial dimensions)\n",
    "        batch_var = x.var(dim=[0, 2, 3], keepdim=True, unbiased=False)\n",
    "        # Compute the denominator using a max between the batch std and a modulated version of x plus instance std\n",
    "        denom = torch.max(torch.sqrt(batch_var + self.eps), self.v * x + torch.sqrt(inst_var + self.eps))\n",
    "        return (x / denom) * self.gamma + self.beta\n",
    "\n",
    "class ECALayer(nn.Module):\n",
    "    def __init__(self, channels, gamma=2, b=1):\n",
    "        super().__init__()\n",
    "        t = int(abs((np.log2(channels) + b) / gamma))\n",
    "        k = t if t % 2 else t + 1\n",
    "        self.avg_pool = nn.AdaptiveAvgPool2d(1)\n",
    "        self.conv = nn.Conv1d(1, 1, kernel_size=k, padding=k//2, bias=False)\n",
    "        self.sigmoid = nn.Sigmoid()\n",
    "    def forward(self, x):\n",
    "        y = self.avg_pool(x)\n",
    "        y = self.conv(y.squeeze(-1).transpose(-1, -2))\n",
    "        y = y.transpose(-1, -2).unsqueeze(-1)\n",
    "        y = self.sigmoid(y)\n",
    "\n",
    "\n",
    "###############################################\n",
    "# 2. Define the CNN Model that Fuses Statistical Features\n",
    "###############################################\n",
    "class CNNCombinedFeatureModel(nn.Module):\n",
    "    def __init__(self):\n",
    "        super(CNNCombinedFeatureModel, self).__init__()\n",
    "        # Define a simple CNN architecture.\n",
    "        # The network will receive a 3-channel input:\n",
    "        #   Channel 1: Raw image (normalized to [0,1])\n",
    "        #   Channel 2: Local variance map\n",
    "        #   Channel 3: Log-PSD map\n",
    "        self.conv1 = nn.Sequential(\n",
    "            nn.Conv2d(3, 16, kernel_size=3, padding=1),\n",
    "            nn.ReLU(),\n",
    "            nn.MaxPool2d(2)  # Halve spatial dimensions.\n",
    "        )\n",
    "        self.conv2 = nn.Sequential(\n",
    "            nn.Conv2d(16, 32, kernel_size=3, padding=1),\n",
    "            nn.ReLU(),\n",
    "            nn.MaxPool2d(2)\n",
    "        )\n",
    "        self.conv3 = nn.Sequential(\n",
    "            nn.Conv2d(32, 64, kernel_size=3, padding=1),\n",
    "            nn.ReLU(),\n",
    "            nn.MaxPool2d(2)\n",
    "        )\n",
    "        # Assuming input images are 256x256, after 3 pooling layers: 256/8 = 32.\n",
    "        self.fc = nn.Sequential(\n",
    "            nn.Linear(64 * 32 * 32, 128),\n",
    "            nn.ReLU(),\n",
    "            nn.Linear(128, 1)  # Predict SNR (in dB)\n",
    "        )\n",
    "    \n",
    "    def forward(self, x):\n",
    "        # x: (B, 1, H, W) -> Compute statistical maps and stack channels.\n",
    "        B, C, H, W = x.size()\n",
    "        # Compute Local Variance Map\n",
    "        local_var = self.compute_local_variance(x)  # (B, 1, H, W)\n",
    "        # Compute PSD Map (in log scale)\n",
    "        psd_map = self.compute_psd_map(x)           # (B, 1, H, W)\n",
    "        # Stack the raw image, local variance, and PSD map along the channel dimension.\n",
    "        x_combined = torch.cat([x, local_var, psd_map], dim=1)  # (B, 3, H, W)\n",
    "        \n",
    "        # Pass the combined 3-channel input through the CNN\n",
    "        out = self.conv1(x_combined)\n",
    "        out = self.conv2(out)\n",
    "        out = self.conv3(out)\n",
    "        out = out.view(B, -1)\n",
    "        out = self.fc(out)\n",
    "        return out\n",
    "    \n",
    "    def compute_local_variance(self, x):\n",
    "        # Compute the local variance using a sliding window (kernel_size=7)\n",
    "        kernel_size = 7\n",
    "        pad = kernel_size // 2\n",
    "        # Compute local mean with average pooling\n",
    "        mean = F.avg_pool2d(x, kernel_size=kernel_size, stride=1, padding=pad)\n",
    "        mean_sq = F.avg_pool2d(x * x, kernel_size=kernel_size, stride=1, padding=pad)\n",
    "        variance = mean_sq - mean * mean\n",
    "        return variance\n",
    "    \n",
    "    def compute_psd_map(self, x, eps=1e-8, fft_shift=True, normalize=True):\n",
    "        \"\"\"\n",
    "        Compute the log power spectral density (PSD) map from an image.\n",
    "    \n",
    "        Args:\n",
    "            x (Tensor): Input tensor with shape (B, C, H, W).\n",
    "            eps (float): Small constant for numerical stability in the log transform.\n",
    "            fft_shift (bool): If True, applies FFT shift to center the zero-frequency component.\n",
    "            normalize (bool): If True, normalizes the log PSD map per image to zero mean and unit variance.\n",
    "    \n",
    "        Returns:\n",
    "            Tensor: Log PSD map with shape (B, 1, H, W).\n",
    "        \"\"\"\n",
    "        B, C, H, W = x.shape\n",
    "    \n",
    "        # Convert to grayscale if input has multiple channels (assumes RGB)\n",
    "        if C > 1:\n",
    "            x = 0.299 * x[:, 0:1] + 0.587 * x[:, 1:2] + 0.114 * x[:, 2:3]\n",
    "    \n",
    "        # Compute the 2D FFT on the last two dimensions\n",
    "        fft = torch.fft.fft2(x)\n",
    "        if fft_shift:\n",
    "            fft = torch.fft.fftshift(fft, dim=(-2, -1))\n",
    "    \n",
    "        # Compute the Power Spectral Density (PSD)\n",
    "        psd = torch.abs(fft) ** 2\n",
    "    \n",
    "        # Apply logarithmic transformation for numerical stability\n",
    "        psd_log = torch.log(psd + eps)\n",
    "    \n",
    "        # Optionally, normalize the PSD map per image\n",
    "        if normalize:\n",
    "            mean = psd_log.mean(dim=(-2, -1), keepdim=True)\n",
    "            std = psd_log.std(dim=(-2, -1), keepdim=True) + eps\n",
    "            psd_log = (psd_log - mean) / std\n",
    "    \n",
    "        # Ensure the output tensor has a channel dimension: (B, 1, H, W)\n",
    "        if psd_log.dim() == 3:\n",
    "            psd_log = psd_log.unsqueeze(1)\n",
    "    \n",
    "        return psd_log\n",
    "\n",
    "\n",
    "###############################################\n",
    "# 3. Create Dataset and DataLoader\n",
    "###############################################\n",
    "images_dir = r'C:\\Users\\lewka\\deep_learning\\SEM Deep Learning Multiclass Noise Level Classification with Data Augmentation (IEEE)\\SEM_images\\Cropped\\Biofilm SEM Dataset\\Noisy'\n",
    "labels_csv = r\"C:\\Users\\lewka\\deep_learning\\SEM Deep Learning Multiclass Noise Level Classification with Data Augmentation (IEEE)\\SEM_images\\Cropped\\Biofilm SEM Dataset\\Label\\labels.csv\"\n",
    "\n",
    "dataset = SEMDataset(images_dir, labels_csv)\n",
    "dataloader = DataLoader(dataset, batch_size=16, shuffle=True)\n",
    "\n",
    "###############################################\n",
    "# 4. Instantiate Model, Loss, and Optimizer\n",
    "###############################################\n",
    "device = torch.device(\"cuda\" if torch.cuda.is_available() else \"cpu\")\n",
    "model = CNNCombinedFeatureModel().to(device)\n",
    "criterion = nn.MSELoss()  # Mean Squared Error Loss for regression\n",
    "optimizer = torch.optim.Adam(model.parameters(), lr=0.001)\n",
    "\n",
    "###############################################\n",
    "# 5. Training Loop\n",
    "###############################################\n",
    "num_epochs = 100\n",
    "for epoch in range(num_epochs):\n",
    "    model.train()\n",
    "    epoch_loss = 0.0\n",
    "    for images, labels in dataloader:\n",
    "        images = images.to(device)\n",
    "        # Ensure images have shape (B, 1, H, W); if not, add a channel dimension.\n",
    "        if images.ndim == 3:\n",
    "            images = images.unsqueeze(1)\n",
    "        # Convert labels to tensor.\n",
    "        labels = torch.as_tensor(labels, dtype=torch.float32, device=device).unsqueeze(1)\n",
    "        \n",
    "        optimizer.zero_grad()\n",
    "        predicted_snr = model(images)\n",
    "        loss = criterion(predicted_snr, labels)\n",
    "        loss.backward()\n",
    "        optimizer.step()\n",
    "        epoch_loss += loss.item() * images.size(0)\n",
    "    \n",
    "    epoch_loss /= len(dataset)\n",
    "    print(f\"Epoch {epoch+1}/{num_epochs}, Loss: {epoch_loss:.6f}\")\n",
    "\n",
    "###############################################\n",
    "# 6. Evaluate on a Batch After Training\n",
    "###############################################\n",
    "model.eval()\n",
    "with torch.no_grad():\n",
    "    for images, labels in dataloader:\n",
    "        images = images.to(device)\n",
    "        if images.ndim == 3:\n",
    "            images = images.unsqueeze(1)\n",
    "        predicted_snr = model(images)\n",
    "        print(\"Predicted SNR values (dB):\", predicted_snr.squeeze().detach().cpu().numpy())\n",
    "        print(\"Ground truth SNR (dB):\", labels)\n",
    "        break\n"
   ]
  },
  {
   "cell_type": "code",
   "execution_count": 2,
   "id": "0d401375-885c-4408-9699-cac37245e2f1",
   "metadata": {},
   "outputs": [
    {
     "name": "stderr",
     "output_type": "stream",
     "text": [
      "Epoch 1/100: 100%|█████████████████████████████████████████████████████████████████████| 26/26 [00:02<00:00,  9.99it/s]\n"
     ]
    },
    {
     "name": "stdout",
     "output_type": "stream",
     "text": [
      "Epoch 1/100, Loss: 157.287478\n"
     ]
    },
    {
     "name": "stderr",
     "output_type": "stream",
     "text": [
      "Epoch 2/100: 100%|█████████████████████████████████████████████████████████████████████| 26/26 [00:02<00:00, 10.44it/s]\n"
     ]
    },
    {
     "name": "stdout",
     "output_type": "stream",
     "text": [
      "Epoch 2/100, Loss: 80.545043\n"
     ]
    },
    {
     "name": "stderr",
     "output_type": "stream",
     "text": [
      "Epoch 3/100: 100%|█████████████████████████████████████████████████████████████████████| 26/26 [00:02<00:00, 10.01it/s]\n"
     ]
    },
    {
     "name": "stdout",
     "output_type": "stream",
     "text": [
      "Epoch 3/100, Loss: 70.174612\n"
     ]
    },
    {
     "name": "stderr",
     "output_type": "stream",
     "text": [
      "Epoch 4/100: 100%|█████████████████████████████████████████████████████████████████████| 26/26 [00:03<00:00,  8.24it/s]\n"
     ]
    },
    {
     "name": "stdout",
     "output_type": "stream",
     "text": [
      "Epoch 4/100, Loss: 32.578082\n"
     ]
    },
    {
     "name": "stderr",
     "output_type": "stream",
     "text": [
      "Epoch 5/100: 100%|█████████████████████████████████████████████████████████████████████| 26/26 [00:03<00:00,  8.11it/s]\n"
     ]
    },
    {
     "name": "stdout",
     "output_type": "stream",
     "text": [
      "Epoch 5/100, Loss: 29.684199\n"
     ]
    },
    {
     "name": "stderr",
     "output_type": "stream",
     "text": [
      "Epoch 6/100: 100%|█████████████████████████████████████████████████████████████████████| 26/26 [00:03<00:00,  7.58it/s]\n"
     ]
    },
    {
     "name": "stdout",
     "output_type": "stream",
     "text": [
      "Epoch 6/100, Loss: 14.425571\n"
     ]
    },
    {
     "name": "stderr",
     "output_type": "stream",
     "text": [
      "Epoch 7/100: 100%|█████████████████████████████████████████████████████████████████████| 26/26 [00:03<00:00,  7.88it/s]\n"
     ]
    },
    {
     "name": "stdout",
     "output_type": "stream",
     "text": [
      "Epoch 7/100, Loss: 14.810117\n"
     ]
    },
    {
     "name": "stderr",
     "output_type": "stream",
     "text": [
      "Epoch 8/100: 100%|█████████████████████████████████████████████████████████████████████| 26/26 [00:03<00:00,  7.77it/s]\n"
     ]
    },
    {
     "name": "stdout",
     "output_type": "stream",
     "text": [
      "Epoch 8/100, Loss: 14.322982\n"
     ]
    },
    {
     "name": "stderr",
     "output_type": "stream",
     "text": [
      "Epoch 9/100: 100%|█████████████████████████████████████████████████████████████████████| 26/26 [00:03<00:00,  6.67it/s]\n"
     ]
    },
    {
     "name": "stdout",
     "output_type": "stream",
     "text": [
      "Epoch 9/100, Loss: 13.167660\n"
     ]
    },
    {
     "name": "stderr",
     "output_type": "stream",
     "text": [
      "Epoch 10/100: 100%|████████████████████████████████████████████████████████████████████| 26/26 [00:06<00:00,  4.13it/s]\n"
     ]
    },
    {
     "name": "stdout",
     "output_type": "stream",
     "text": [
      "Epoch 10/100, Loss: 17.869365\n"
     ]
    },
    {
     "name": "stderr",
     "output_type": "stream",
     "text": [
      "Epoch 11/100: 100%|████████████████████████████████████████████████████████████████████| 26/26 [00:08<00:00,  2.90it/s]\n"
     ]
    },
    {
     "name": "stdout",
     "output_type": "stream",
     "text": [
      "Epoch 11/100, Loss: 13.019029\n"
     ]
    },
    {
     "name": "stderr",
     "output_type": "stream",
     "text": [
      "Epoch 12/100: 100%|████████████████████████████████████████████████████████████████████| 26/26 [00:08<00:00,  3.01it/s]\n"
     ]
    },
    {
     "name": "stdout",
     "output_type": "stream",
     "text": [
      "Epoch 12/100, Loss: 12.971770\n"
     ]
    },
    {
     "name": "stderr",
     "output_type": "stream",
     "text": [
      "Epoch 13/100: 100%|████████████████████████████████████████████████████████████████████| 26/26 [00:07<00:00,  3.43it/s]\n"
     ]
    },
    {
     "name": "stdout",
     "output_type": "stream",
     "text": [
      "Epoch 13/100, Loss: 14.345778\n"
     ]
    },
    {
     "name": "stderr",
     "output_type": "stream",
     "text": [
      "Epoch 14/100: 100%|████████████████████████████████████████████████████████████████████| 26/26 [00:08<00:00,  3.09it/s]\n"
     ]
    },
    {
     "name": "stdout",
     "output_type": "stream",
     "text": [
      "Epoch 14/100, Loss: 12.197217\n"
     ]
    },
    {
     "name": "stderr",
     "output_type": "stream",
     "text": [
      "Epoch 15/100: 100%|████████████████████████████████████████████████████████████████████| 26/26 [00:07<00:00,  3.30it/s]\n"
     ]
    },
    {
     "name": "stdout",
     "output_type": "stream",
     "text": [
      "Epoch 15/100, Loss: 12.775674\n"
     ]
    },
    {
     "name": "stderr",
     "output_type": "stream",
     "text": [
      "Epoch 16/100: 100%|████████████████████████████████████████████████████████████████████| 26/26 [00:07<00:00,  3.35it/s]\n"
     ]
    },
    {
     "name": "stdout",
     "output_type": "stream",
     "text": [
      "Epoch 16/100, Loss: 14.685479\n"
     ]
    },
    {
     "name": "stderr",
     "output_type": "stream",
     "text": [
      "Epoch 17/100: 100%|████████████████████████████████████████████████████████████████████| 26/26 [00:07<00:00,  3.29it/s]\n"
     ]
    },
    {
     "name": "stdout",
     "output_type": "stream",
     "text": [
      "Epoch 17/100, Loss: 12.450492\n"
     ]
    },
    {
     "name": "stderr",
     "output_type": "stream",
     "text": [
      "Epoch 18/100: 100%|████████████████████████████████████████████████████████████████████| 26/26 [00:07<00:00,  3.28it/s]\n"
     ]
    },
    {
     "name": "stdout",
     "output_type": "stream",
     "text": [
      "Epoch 18/100, Loss: 14.224662\n"
     ]
    },
    {
     "name": "stderr",
     "output_type": "stream",
     "text": [
      "Epoch 19/100: 100%|████████████████████████████████████████████████████████████████████| 26/26 [00:08<00:00,  3.07it/s]\n"
     ]
    },
    {
     "name": "stdout",
     "output_type": "stream",
     "text": [
      "Epoch 19/100, Loss: 14.037584\n"
     ]
    },
    {
     "name": "stderr",
     "output_type": "stream",
     "text": [
      "Epoch 20/100: 100%|████████████████████████████████████████████████████████████████████| 26/26 [00:08<00:00,  3.02it/s]\n"
     ]
    },
    {
     "name": "stdout",
     "output_type": "stream",
     "text": [
      "Epoch 20/100, Loss: 12.704831\n"
     ]
    },
    {
     "name": "stderr",
     "output_type": "stream",
     "text": [
      "Epoch 21/100: 100%|████████████████████████████████████████████████████████████████████| 26/26 [00:08<00:00,  3.09it/s]\n"
     ]
    },
    {
     "name": "stdout",
     "output_type": "stream",
     "text": [
      "Epoch 21/100, Loss: 12.204770\n"
     ]
    },
    {
     "name": "stderr",
     "output_type": "stream",
     "text": [
      "Epoch 22/100: 100%|████████████████████████████████████████████████████████████████████| 26/26 [00:07<00:00,  3.34it/s]\n"
     ]
    },
    {
     "name": "stdout",
     "output_type": "stream",
     "text": [
      "Epoch 22/100, Loss: 10.537557\n"
     ]
    },
    {
     "name": "stderr",
     "output_type": "stream",
     "text": [
      "Epoch 23/100: 100%|████████████████████████████████████████████████████████████████████| 26/26 [00:08<00:00,  3.23it/s]\n"
     ]
    },
    {
     "name": "stdout",
     "output_type": "stream",
     "text": [
      "Epoch 23/100, Loss: 10.299395\n"
     ]
    },
    {
     "name": "stderr",
     "output_type": "stream",
     "text": [
      "Epoch 24/100: 100%|████████████████████████████████████████████████████████████████████| 26/26 [00:07<00:00,  3.42it/s]\n"
     ]
    },
    {
     "name": "stdout",
     "output_type": "stream",
     "text": [
      "Epoch 24/100, Loss: 9.911898\n"
     ]
    },
    {
     "name": "stderr",
     "output_type": "stream",
     "text": [
      "Epoch 25/100: 100%|████████████████████████████████████████████████████████████████████| 26/26 [00:07<00:00,  3.44it/s]\n"
     ]
    },
    {
     "name": "stdout",
     "output_type": "stream",
     "text": [
      "Epoch 25/100, Loss: 13.385846\n"
     ]
    },
    {
     "name": "stderr",
     "output_type": "stream",
     "text": [
      "Epoch 26/100: 100%|████████████████████████████████████████████████████████████████████| 26/26 [00:07<00:00,  3.30it/s]\n"
     ]
    },
    {
     "name": "stdout",
     "output_type": "stream",
     "text": [
      "Epoch 26/100, Loss: 13.157095\n"
     ]
    },
    {
     "name": "stderr",
     "output_type": "stream",
     "text": [
      "Epoch 27/100: 100%|████████████████████████████████████████████████████████████████████| 26/26 [00:08<00:00,  3.10it/s]\n"
     ]
    },
    {
     "name": "stdout",
     "output_type": "stream",
     "text": [
      "Epoch 27/100, Loss: 9.422782\n"
     ]
    },
    {
     "name": "stderr",
     "output_type": "stream",
     "text": [
      "Epoch 28/100: 100%|████████████████████████████████████████████████████████████████████| 26/26 [00:07<00:00,  3.38it/s]\n"
     ]
    },
    {
     "name": "stdout",
     "output_type": "stream",
     "text": [
      "Epoch 28/100, Loss: 9.131043\n"
     ]
    },
    {
     "name": "stderr",
     "output_type": "stream",
     "text": [
      "Epoch 29/100: 100%|████████████████████████████████████████████████████████████████████| 26/26 [00:07<00:00,  3.39it/s]\n"
     ]
    },
    {
     "name": "stdout",
     "output_type": "stream",
     "text": [
      "Epoch 29/100, Loss: 8.718039\n"
     ]
    },
    {
     "name": "stderr",
     "output_type": "stream",
     "text": [
      "Epoch 30/100: 100%|████████████████████████████████████████████████████████████████████| 26/26 [00:08<00:00,  3.25it/s]\n"
     ]
    },
    {
     "name": "stdout",
     "output_type": "stream",
     "text": [
      "Epoch 30/100, Loss: 6.702715\n"
     ]
    },
    {
     "name": "stderr",
     "output_type": "stream",
     "text": [
      "Epoch 31/100: 100%|████████████████████████████████████████████████████████████████████| 26/26 [00:07<00:00,  3.37it/s]\n"
     ]
    },
    {
     "name": "stdout",
     "output_type": "stream",
     "text": [
      "Epoch 31/100, Loss: 7.309931\n"
     ]
    },
    {
     "name": "stderr",
     "output_type": "stream",
     "text": [
      "Epoch 32/100: 100%|████████████████████████████████████████████████████████████████████| 26/26 [00:09<00:00,  2.66it/s]\n"
     ]
    },
    {
     "name": "stdout",
     "output_type": "stream",
     "text": [
      "Epoch 32/100, Loss: 10.393392\n"
     ]
    },
    {
     "name": "stderr",
     "output_type": "stream",
     "text": [
      "Epoch 33/100: 100%|████████████████████████████████████████████████████████████████████| 26/26 [00:08<00:00,  3.01it/s]\n"
     ]
    },
    {
     "name": "stdout",
     "output_type": "stream",
     "text": [
      "Epoch 33/100, Loss: 6.544455\n"
     ]
    },
    {
     "name": "stderr",
     "output_type": "stream",
     "text": [
      "Epoch 34/100: 100%|████████████████████████████████████████████████████████████████████| 26/26 [00:07<00:00,  3.47it/s]\n"
     ]
    },
    {
     "name": "stdout",
     "output_type": "stream",
     "text": [
      "Epoch 34/100, Loss: 4.919628\n"
     ]
    },
    {
     "name": "stderr",
     "output_type": "stream",
     "text": [
      "Epoch 35/100: 100%|████████████████████████████████████████████████████████████████████| 26/26 [00:08<00:00,  3.16it/s]\n"
     ]
    },
    {
     "name": "stdout",
     "output_type": "stream",
     "text": [
      "Epoch 35/100, Loss: 3.706364\n"
     ]
    },
    {
     "name": "stderr",
     "output_type": "stream",
     "text": [
      "Epoch 36/100: 100%|████████████████████████████████████████████████████████████████████| 26/26 [00:07<00:00,  3.35it/s]\n"
     ]
    },
    {
     "name": "stdout",
     "output_type": "stream",
     "text": [
      "Epoch 36/100, Loss: 3.308496\n"
     ]
    },
    {
     "name": "stderr",
     "output_type": "stream",
     "text": [
      "Epoch 37/100: 100%|████████████████████████████████████████████████████████████████████| 26/26 [00:07<00:00,  3.35it/s]\n"
     ]
    },
    {
     "name": "stdout",
     "output_type": "stream",
     "text": [
      "Epoch 37/100, Loss: 3.664414\n"
     ]
    },
    {
     "name": "stderr",
     "output_type": "stream",
     "text": [
      "Epoch 38/100: 100%|████████████████████████████████████████████████████████████████████| 26/26 [00:07<00:00,  3.30it/s]\n"
     ]
    },
    {
     "name": "stdout",
     "output_type": "stream",
     "text": [
      "Epoch 38/100, Loss: 2.286100\n"
     ]
    },
    {
     "name": "stderr",
     "output_type": "stream",
     "text": [
      "Epoch 39/100: 100%|████████████████████████████████████████████████████████████████████| 26/26 [00:08<00:00,  3.12it/s]\n"
     ]
    },
    {
     "name": "stdout",
     "output_type": "stream",
     "text": [
      "Epoch 39/100, Loss: 2.024236\n"
     ]
    },
    {
     "name": "stderr",
     "output_type": "stream",
     "text": [
      "Epoch 40/100: 100%|████████████████████████████████████████████████████████████████████| 26/26 [00:08<00:00,  3.17it/s]\n"
     ]
    },
    {
     "name": "stdout",
     "output_type": "stream",
     "text": [
      "Epoch 40/100, Loss: 1.897711\n"
     ]
    },
    {
     "name": "stderr",
     "output_type": "stream",
     "text": [
      "Epoch 41/100: 100%|████████████████████████████████████████████████████████████████████| 26/26 [00:09<00:00,  2.74it/s]\n"
     ]
    },
    {
     "name": "stdout",
     "output_type": "stream",
     "text": [
      "Epoch 41/100, Loss: 1.527948\n"
     ]
    },
    {
     "name": "stderr",
     "output_type": "stream",
     "text": [
      "Epoch 42/100: 100%|████████████████████████████████████████████████████████████████████| 26/26 [00:08<00:00,  2.94it/s]\n"
     ]
    },
    {
     "name": "stdout",
     "output_type": "stream",
     "text": [
      "Epoch 42/100, Loss: 1.123184\n"
     ]
    },
    {
     "name": "stderr",
     "output_type": "stream",
     "text": [
      "Epoch 43/100: 100%|████████████████████████████████████████████████████████████████████| 26/26 [00:07<00:00,  3.35it/s]\n"
     ]
    },
    {
     "name": "stdout",
     "output_type": "stream",
     "text": [
      "Epoch 43/100, Loss: 1.187589\n"
     ]
    },
    {
     "name": "stderr",
     "output_type": "stream",
     "text": [
      "Epoch 44/100: 100%|████████████████████████████████████████████████████████████████████| 26/26 [00:07<00:00,  3.29it/s]\n"
     ]
    },
    {
     "name": "stdout",
     "output_type": "stream",
     "text": [
      "Epoch 44/100, Loss: 0.820733\n"
     ]
    },
    {
     "name": "stderr",
     "output_type": "stream",
     "text": [
      "Epoch 45/100: 100%|████████████████████████████████████████████████████████████████████| 26/26 [00:07<00:00,  3.45it/s]\n"
     ]
    },
    {
     "name": "stdout",
     "output_type": "stream",
     "text": [
      "Epoch 45/100, Loss: 0.447936\n"
     ]
    },
    {
     "name": "stderr",
     "output_type": "stream",
     "text": [
      "Epoch 46/100: 100%|████████████████████████████████████████████████████████████████████| 26/26 [00:07<00:00,  3.44it/s]\n"
     ]
    },
    {
     "name": "stdout",
     "output_type": "stream",
     "text": [
      "Epoch 46/100, Loss: 0.409652\n"
     ]
    },
    {
     "name": "stderr",
     "output_type": "stream",
     "text": [
      "Epoch 47/100: 100%|████████████████████████████████████████████████████████████████████| 26/26 [00:07<00:00,  3.42it/s]\n"
     ]
    },
    {
     "name": "stdout",
     "output_type": "stream",
     "text": [
      "Epoch 47/100, Loss: 0.305962\n"
     ]
    },
    {
     "name": "stderr",
     "output_type": "stream",
     "text": [
      "Epoch 48/100: 100%|████████████████████████████████████████████████████████████████████| 26/26 [00:07<00:00,  3.45it/s]\n"
     ]
    },
    {
     "name": "stdout",
     "output_type": "stream",
     "text": [
      "Epoch 48/100, Loss: 0.585472\n"
     ]
    },
    {
     "name": "stderr",
     "output_type": "stream",
     "text": [
      "Epoch 49/100: 100%|████████████████████████████████████████████████████████████████████| 26/26 [00:07<00:00,  3.42it/s]\n"
     ]
    },
    {
     "name": "stdout",
     "output_type": "stream",
     "text": [
      "Epoch 49/100, Loss: 0.417594\n"
     ]
    },
    {
     "name": "stderr",
     "output_type": "stream",
     "text": [
      "Epoch 50/100: 100%|████████████████████████████████████████████████████████████████████| 26/26 [00:07<00:00,  3.32it/s]\n"
     ]
    },
    {
     "name": "stdout",
     "output_type": "stream",
     "text": [
      "Epoch 50/100, Loss: 0.294468\n"
     ]
    },
    {
     "name": "stderr",
     "output_type": "stream",
     "text": [
      "Epoch 51/100: 100%|████████████████████████████████████████████████████████████████████| 26/26 [00:07<00:00,  3.40it/s]\n"
     ]
    },
    {
     "name": "stdout",
     "output_type": "stream",
     "text": [
      "Epoch 51/100, Loss: 0.172899\n"
     ]
    },
    {
     "name": "stderr",
     "output_type": "stream",
     "text": [
      "Epoch 52/100: 100%|████████████████████████████████████████████████████████████████████| 26/26 [00:07<00:00,  3.44it/s]\n"
     ]
    },
    {
     "name": "stdout",
     "output_type": "stream",
     "text": [
      "Epoch 52/100, Loss: 0.122978\n"
     ]
    },
    {
     "name": "stderr",
     "output_type": "stream",
     "text": [
      "Epoch 53/100: 100%|████████████████████████████████████████████████████████████████████| 26/26 [00:07<00:00,  3.43it/s]\n"
     ]
    },
    {
     "name": "stdout",
     "output_type": "stream",
     "text": [
      "Epoch 53/100, Loss: 0.105996\n"
     ]
    },
    {
     "name": "stderr",
     "output_type": "stream",
     "text": [
      "Epoch 54/100: 100%|████████████████████████████████████████████████████████████████████| 26/26 [00:07<00:00,  3.42it/s]\n"
     ]
    },
    {
     "name": "stdout",
     "output_type": "stream",
     "text": [
      "Epoch 54/100, Loss: 0.059112\n"
     ]
    },
    {
     "name": "stderr",
     "output_type": "stream",
     "text": [
      "Epoch 55/100: 100%|████████████████████████████████████████████████████████████████████| 26/26 [00:08<00:00,  3.15it/s]\n"
     ]
    },
    {
     "name": "stdout",
     "output_type": "stream",
     "text": [
      "Epoch 55/100, Loss: 0.042146\n"
     ]
    },
    {
     "name": "stderr",
     "output_type": "stream",
     "text": [
      "Epoch 56/100: 100%|████████████████████████████████████████████████████████████████████| 26/26 [00:07<00:00,  3.41it/s]\n"
     ]
    },
    {
     "name": "stdout",
     "output_type": "stream",
     "text": [
      "Epoch 56/100, Loss: 0.100746\n"
     ]
    },
    {
     "name": "stderr",
     "output_type": "stream",
     "text": [
      "Epoch 57/100: 100%|████████████████████████████████████████████████████████████████████| 26/26 [00:07<00:00,  3.43it/s]\n"
     ]
    },
    {
     "name": "stdout",
     "output_type": "stream",
     "text": [
      "Epoch 57/100, Loss: 0.074728\n"
     ]
    },
    {
     "name": "stderr",
     "output_type": "stream",
     "text": [
      "Epoch 58/100: 100%|████████████████████████████████████████████████████████████████████| 26/26 [00:07<00:00,  3.44it/s]\n"
     ]
    },
    {
     "name": "stdout",
     "output_type": "stream",
     "text": [
      "Epoch 58/100, Loss: 0.078287\n"
     ]
    },
    {
     "name": "stderr",
     "output_type": "stream",
     "text": [
      "Epoch 59/100: 100%|████████████████████████████████████████████████████████████████████| 26/26 [00:07<00:00,  3.41it/s]\n"
     ]
    },
    {
     "name": "stdout",
     "output_type": "stream",
     "text": [
      "Epoch 59/100, Loss: 0.034688\n"
     ]
    },
    {
     "name": "stderr",
     "output_type": "stream",
     "text": [
      "Epoch 60/100: 100%|████████████████████████████████████████████████████████████████████| 26/26 [00:07<00:00,  3.44it/s]\n"
     ]
    },
    {
     "name": "stdout",
     "output_type": "stream",
     "text": [
      "Epoch 60/100, Loss: 0.020885\n"
     ]
    },
    {
     "name": "stderr",
     "output_type": "stream",
     "text": [
      "Epoch 61/100: 100%|████████████████████████████████████████████████████████████████████| 26/26 [00:07<00:00,  3.46it/s]\n"
     ]
    },
    {
     "name": "stdout",
     "output_type": "stream",
     "text": [
      "Epoch 61/100, Loss: 0.015694\n"
     ]
    },
    {
     "name": "stderr",
     "output_type": "stream",
     "text": [
      "Epoch 62/100: 100%|████████████████████████████████████████████████████████████████████| 26/26 [00:07<00:00,  3.39it/s]\n"
     ]
    },
    {
     "name": "stdout",
     "output_type": "stream",
     "text": [
      "Epoch 62/100, Loss: 0.014340\n"
     ]
    },
    {
     "name": "stderr",
     "output_type": "stream",
     "text": [
      "Epoch 63/100: 100%|████████████████████████████████████████████████████████████████████| 26/26 [00:07<00:00,  3.45it/s]\n"
     ]
    },
    {
     "name": "stdout",
     "output_type": "stream",
     "text": [
      "Epoch 63/100, Loss: 0.015657\n"
     ]
    },
    {
     "name": "stderr",
     "output_type": "stream",
     "text": [
      "Epoch 64/100: 100%|████████████████████████████████████████████████████████████████████| 26/26 [00:07<00:00,  3.45it/s]\n"
     ]
    },
    {
     "name": "stdout",
     "output_type": "stream",
     "text": [
      "Epoch 64/100, Loss: 0.015600\n"
     ]
    },
    {
     "name": "stderr",
     "output_type": "stream",
     "text": [
      "Epoch 65/100: 100%|████████████████████████████████████████████████████████████████████| 26/26 [00:07<00:00,  3.47it/s]\n"
     ]
    },
    {
     "name": "stdout",
     "output_type": "stream",
     "text": [
      "Epoch 65/100, Loss: 0.014171\n"
     ]
    },
    {
     "name": "stderr",
     "output_type": "stream",
     "text": [
      "Epoch 66/100: 100%|████████████████████████████████████████████████████████████████████| 26/26 [00:07<00:00,  3.45it/s]\n"
     ]
    },
    {
     "name": "stdout",
     "output_type": "stream",
     "text": [
      "Epoch 66/100, Loss: 0.017727\n"
     ]
    },
    {
     "name": "stderr",
     "output_type": "stream",
     "text": [
      "Epoch 67/100: 100%|████████████████████████████████████████████████████████████████████| 26/26 [00:07<00:00,  3.39it/s]\n"
     ]
    },
    {
     "name": "stdout",
     "output_type": "stream",
     "text": [
      "Epoch 67/100, Loss: 0.024092\n"
     ]
    },
    {
     "name": "stderr",
     "output_type": "stream",
     "text": [
      "Epoch 68/100: 100%|████████████████████████████████████████████████████████████████████| 26/26 [00:07<00:00,  3.45it/s]\n"
     ]
    },
    {
     "name": "stdout",
     "output_type": "stream",
     "text": [
      "Epoch 68/100, Loss: 0.021865\n"
     ]
    },
    {
     "name": "stderr",
     "output_type": "stream",
     "text": [
      "Epoch 69/100: 100%|████████████████████████████████████████████████████████████████████| 26/26 [00:07<00:00,  3.46it/s]\n"
     ]
    },
    {
     "name": "stdout",
     "output_type": "stream",
     "text": [
      "Epoch 69/100, Loss: 0.016207\n"
     ]
    },
    {
     "name": "stderr",
     "output_type": "stream",
     "text": [
      "Epoch 70/100: 100%|████████████████████████████████████████████████████████████████████| 26/26 [00:07<00:00,  3.46it/s]\n"
     ]
    },
    {
     "name": "stdout",
     "output_type": "stream",
     "text": [
      "Epoch 70/100, Loss: 0.027326\n"
     ]
    },
    {
     "name": "stderr",
     "output_type": "stream",
     "text": [
      "Epoch 71/100: 100%|████████████████████████████████████████████████████████████████████| 26/26 [00:07<00:00,  3.42it/s]\n"
     ]
    },
    {
     "name": "stdout",
     "output_type": "stream",
     "text": [
      "Epoch 71/100, Loss: 0.026592\n"
     ]
    },
    {
     "name": "stderr",
     "output_type": "stream",
     "text": [
      "Epoch 72/100: 100%|████████████████████████████████████████████████████████████████████| 26/26 [00:07<00:00,  3.39it/s]\n"
     ]
    },
    {
     "name": "stdout",
     "output_type": "stream",
     "text": [
      "Epoch 72/100, Loss: 0.033046\n"
     ]
    },
    {
     "name": "stderr",
     "output_type": "stream",
     "text": [
      "Epoch 73/100: 100%|████████████████████████████████████████████████████████████████████| 26/26 [00:07<00:00,  3.45it/s]\n"
     ]
    },
    {
     "name": "stdout",
     "output_type": "stream",
     "text": [
      "Epoch 73/100, Loss: 0.025943\n"
     ]
    },
    {
     "name": "stderr",
     "output_type": "stream",
     "text": [
      "Epoch 74/100: 100%|████████████████████████████████████████████████████████████████████| 26/26 [00:07<00:00,  3.46it/s]\n"
     ]
    },
    {
     "name": "stdout",
     "output_type": "stream",
     "text": [
      "Epoch 74/100, Loss: 0.020393\n"
     ]
    },
    {
     "name": "stderr",
     "output_type": "stream",
     "text": [
      "Epoch 75/100: 100%|████████████████████████████████████████████████████████████████████| 26/26 [00:07<00:00,  3.46it/s]\n"
     ]
    },
    {
     "name": "stdout",
     "output_type": "stream",
     "text": [
      "Epoch 75/100, Loss: 0.017667\n"
     ]
    },
    {
     "name": "stderr",
     "output_type": "stream",
     "text": [
      "Epoch 76/100: 100%|████████████████████████████████████████████████████████████████████| 26/26 [00:07<00:00,  3.43it/s]\n"
     ]
    },
    {
     "name": "stdout",
     "output_type": "stream",
     "text": [
      "Epoch 76/100, Loss: 0.008457\n"
     ]
    },
    {
     "name": "stderr",
     "output_type": "stream",
     "text": [
      "Epoch 77/100: 100%|████████████████████████████████████████████████████████████████████| 26/26 [00:07<00:00,  3.45it/s]\n"
     ]
    },
    {
     "name": "stdout",
     "output_type": "stream",
     "text": [
      "Epoch 77/100, Loss: 0.035549\n"
     ]
    },
    {
     "name": "stderr",
     "output_type": "stream",
     "text": [
      "Epoch 78/100: 100%|████████████████████████████████████████████████████████████████████| 26/26 [00:07<00:00,  3.46it/s]\n"
     ]
    },
    {
     "name": "stdout",
     "output_type": "stream",
     "text": [
      "Epoch 78/100, Loss: 0.028921\n"
     ]
    },
    {
     "name": "stderr",
     "output_type": "stream",
     "text": [
      "Epoch 79/100: 100%|████████████████████████████████████████████████████████████████████| 26/26 [00:07<00:00,  3.46it/s]\n"
     ]
    },
    {
     "name": "stdout",
     "output_type": "stream",
     "text": [
      "Epoch 79/100, Loss: 0.016426\n"
     ]
    },
    {
     "name": "stderr",
     "output_type": "stream",
     "text": [
      "Epoch 80/100: 100%|████████████████████████████████████████████████████████████████████| 26/26 [00:07<00:00,  3.38it/s]\n"
     ]
    },
    {
     "name": "stdout",
     "output_type": "stream",
     "text": [
      "Epoch 80/100, Loss: 0.010184\n"
     ]
    },
    {
     "name": "stderr",
     "output_type": "stream",
     "text": [
      "Epoch 81/100: 100%|████████████████████████████████████████████████████████████████████| 26/26 [00:07<00:00,  3.37it/s]\n"
     ]
    },
    {
     "name": "stdout",
     "output_type": "stream",
     "text": [
      "Epoch 81/100, Loss: 0.005167\n"
     ]
    },
    {
     "name": "stderr",
     "output_type": "stream",
     "text": [
      "Epoch 82/100: 100%|████████████████████████████████████████████████████████████████████| 26/26 [00:07<00:00,  3.42it/s]\n"
     ]
    },
    {
     "name": "stdout",
     "output_type": "stream",
     "text": [
      "Epoch 82/100, Loss: 0.007553\n"
     ]
    },
    {
     "name": "stderr",
     "output_type": "stream",
     "text": [
      "Epoch 83/100: 100%|████████████████████████████████████████████████████████████████████| 26/26 [00:07<00:00,  3.42it/s]\n"
     ]
    },
    {
     "name": "stdout",
     "output_type": "stream",
     "text": [
      "Epoch 83/100, Loss: 0.009807\n"
     ]
    },
    {
     "name": "stderr",
     "output_type": "stream",
     "text": [
      "Epoch 84/100: 100%|████████████████████████████████████████████████████████████████████| 26/26 [00:07<00:00,  3.43it/s]\n"
     ]
    },
    {
     "name": "stdout",
     "output_type": "stream",
     "text": [
      "Epoch 84/100, Loss: 0.038307\n"
     ]
    },
    {
     "name": "stderr",
     "output_type": "stream",
     "text": [
      "Epoch 85/100: 100%|████████████████████████████████████████████████████████████████████| 26/26 [00:07<00:00,  3.33it/s]\n"
     ]
    },
    {
     "name": "stdout",
     "output_type": "stream",
     "text": [
      "Epoch 85/100, Loss: 0.024023\n"
     ]
    },
    {
     "name": "stderr",
     "output_type": "stream",
     "text": [
      "Epoch 86/100: 100%|████████████████████████████████████████████████████████████████████| 26/26 [00:07<00:00,  3.38it/s]\n"
     ]
    },
    {
     "name": "stdout",
     "output_type": "stream",
     "text": [
      "Epoch 86/100, Loss: 0.017488\n"
     ]
    },
    {
     "name": "stderr",
     "output_type": "stream",
     "text": [
      "Epoch 87/100: 100%|████████████████████████████████████████████████████████████████████| 26/26 [00:07<00:00,  3.43it/s]\n"
     ]
    },
    {
     "name": "stdout",
     "output_type": "stream",
     "text": [
      "Epoch 87/100, Loss: 0.011615\n"
     ]
    },
    {
     "name": "stderr",
     "output_type": "stream",
     "text": [
      "Epoch 88/100: 100%|████████████████████████████████████████████████████████████████████| 26/26 [00:07<00:00,  3.43it/s]\n"
     ]
    },
    {
     "name": "stdout",
     "output_type": "stream",
     "text": [
      "Epoch 88/100, Loss: 0.022332\n"
     ]
    },
    {
     "name": "stderr",
     "output_type": "stream",
     "text": [
      "Epoch 89/100: 100%|████████████████████████████████████████████████████████████████████| 26/26 [00:07<00:00,  3.42it/s]\n"
     ]
    },
    {
     "name": "stdout",
     "output_type": "stream",
     "text": [
      "Epoch 89/100, Loss: 0.029619\n"
     ]
    },
    {
     "name": "stderr",
     "output_type": "stream",
     "text": [
      "Epoch 90/100: 100%|████████████████████████████████████████████████████████████████████| 26/26 [00:07<00:00,  3.26it/s]\n"
     ]
    },
    {
     "name": "stdout",
     "output_type": "stream",
     "text": [
      "Epoch 90/100, Loss: 0.057113\n"
     ]
    },
    {
     "name": "stderr",
     "output_type": "stream",
     "text": [
      "Epoch 91/100: 100%|████████████████████████████████████████████████████████████████████| 26/26 [00:08<00:00,  3.11it/s]\n"
     ]
    },
    {
     "name": "stdout",
     "output_type": "stream",
     "text": [
      "Epoch 91/100, Loss: 0.045445\n"
     ]
    },
    {
     "name": "stderr",
     "output_type": "stream",
     "text": [
      "Epoch 92/100: 100%|████████████████████████████████████████████████████████████████████| 26/26 [00:08<00:00,  2.99it/s]\n"
     ]
    },
    {
     "name": "stdout",
     "output_type": "stream",
     "text": [
      "Epoch 92/100, Loss: 0.020144\n"
     ]
    },
    {
     "name": "stderr",
     "output_type": "stream",
     "text": [
      "Epoch 93/100: 100%|████████████████████████████████████████████████████████████████████| 26/26 [00:08<00:00,  3.10it/s]\n"
     ]
    },
    {
     "name": "stdout",
     "output_type": "stream",
     "text": [
      "Epoch 93/100, Loss: 0.010668\n"
     ]
    },
    {
     "name": "stderr",
     "output_type": "stream",
     "text": [
      "Epoch 94/100: 100%|████████████████████████████████████████████████████████████████████| 26/26 [00:08<00:00,  3.23it/s]\n"
     ]
    },
    {
     "name": "stdout",
     "output_type": "stream",
     "text": [
      "Epoch 94/100, Loss: 0.013918\n"
     ]
    },
    {
     "name": "stderr",
     "output_type": "stream",
     "text": [
      "Epoch 95/100: 100%|████████████████████████████████████████████████████████████████████| 26/26 [00:08<00:00,  3.17it/s]\n"
     ]
    },
    {
     "name": "stdout",
     "output_type": "stream",
     "text": [
      "Epoch 95/100, Loss: 0.012354\n"
     ]
    },
    {
     "name": "stderr",
     "output_type": "stream",
     "text": [
      "Epoch 96/100: 100%|████████████████████████████████████████████████████████████████████| 26/26 [00:08<00:00,  3.07it/s]\n"
     ]
    },
    {
     "name": "stdout",
     "output_type": "stream",
     "text": [
      "Epoch 96/100, Loss: 0.022717\n"
     ]
    },
    {
     "name": "stderr",
     "output_type": "stream",
     "text": [
      "Epoch 97/100: 100%|████████████████████████████████████████████████████████████████████| 26/26 [00:08<00:00,  2.91it/s]\n"
     ]
    },
    {
     "name": "stdout",
     "output_type": "stream",
     "text": [
      "Epoch 97/100, Loss: 0.016008\n"
     ]
    },
    {
     "name": "stderr",
     "output_type": "stream",
     "text": [
      "Epoch 98/100: 100%|████████████████████████████████████████████████████████████████████| 26/26 [00:08<00:00,  3.14it/s]\n"
     ]
    },
    {
     "name": "stdout",
     "output_type": "stream",
     "text": [
      "Epoch 98/100, Loss: 0.089459\n"
     ]
    },
    {
     "name": "stderr",
     "output_type": "stream",
     "text": [
      "Epoch 99/100: 100%|████████████████████████████████████████████████████████████████████| 26/26 [00:08<00:00,  2.91it/s]\n"
     ]
    },
    {
     "name": "stdout",
     "output_type": "stream",
     "text": [
      "Epoch 99/100, Loss: 0.107685\n"
     ]
    },
    {
     "name": "stderr",
     "output_type": "stream",
     "text": [
      "Epoch 100/100: 100%|███████████████████████████████████████████████████████████████████| 26/26 [00:07<00:00,  3.43it/s]"
     ]
    },
    {
     "name": "stdout",
     "output_type": "stream",
     "text": [
      "Epoch 100/100, Loss: 0.261852\n",
      "Predicted SNR values (dB): [ 9.209839  9.483712 29.783842 19.707016 14.166658 14.600001 29.96935\n",
      "  9.494891 29.532959 25.529493 14.627373 24.756805 24.851286 19.67107\n",
      " 19.087925 25.086676]\n",
      "Ground truth SNR (dB): tensor([10, 10, 30, 20, 15, 15, 30, 10, 30, 25, 15, 25, 25, 20, 20, 25])\n"
     ]
    },
    {
     "name": "stderr",
     "output_type": "stream",
     "text": [
      "\n"
     ]
    }
   ],
   "source": [
    "import os\n",
    "import torch\n",
    "from torch.utils.data import Dataset, DataLoader\n",
    "import pandas as pd\n",
    "import torch.nn as nn\n",
    "import torch.nn.functional as F\n",
    "from skimage import io\n",
    "import numpy as np\n",
    "from timm.layers import BlurPool2d\n",
    "from torch.nn.utils import weight_norm\n",
    "from tqdm import tqdm\n",
    "###############################################\n",
    "# 1. Define the SEM Dataset\n",
    "###############################################\n",
    "class SEMDataset(Dataset):\n",
    "    def __init__(self, images_dir, labels_csv, transform=None):\n",
    "        \"\"\"\n",
    "        Args:\n",
    "            images_dir (str): Directory containing the .pt image files.\n",
    "            labels_csv (str): Path to CSV file with columns \"filename\" and \"snr_db\".\n",
    "            transform (callable, optional): Optional transform to be applied on an image tensor.\n",
    "        \"\"\"\n",
    "        self.images_dir = images_dir\n",
    "        self.labels_df = pd.read_csv(labels_csv)\n",
    "        self.transform = transform\n",
    "\n",
    "    def __len__(self):\n",
    "        return len(self.labels_df)\n",
    "\n",
    "    def __getitem__(self, idx):\n",
    "        row = self.labels_df.iloc[idx]\n",
    "        filename = row['filename']      # Name of the .pt file\n",
    "        label_db = row['snr_db']          # SNR value in dB\n",
    "        image_path = os.path.join(self.images_dir, filename)\n",
    "        # Use weights_only=True for safe loading.\n",
    "        image_tensor = torch.load(image_path, weights_only=True)  # Expected shape: (1, H, W)\n",
    "        if self.transform:\n",
    "            image_tensor = self.transform(image_tensor)\n",
    "        return image_tensor, label_db\n",
    "\n",
    "class EvoNormB0(nn.Module):\n",
    "    def __init__(self, num_features, eps=1e-5):\n",
    "        super(EvoNormB0, self).__init__()\n",
    "        # Learnable scaling and shifting parameters\n",
    "        self.gamma = nn.Parameter(torch.ones(1, num_features, 1, 1))\n",
    "        self.beta  = nn.Parameter(torch.zeros(1, num_features, 1, 1))\n",
    "        # Learnable parameter v that modulates the input (for nonlinearity)\n",
    "        self.v     = nn.Parameter(torch.ones(1, num_features, 1, 1))\n",
    "        self.eps   = eps\n",
    "\n",
    "    def forward(self, x):\n",
    "        # x shape: (B, C, H, W)\n",
    "        # Compute instance variance (over spatial dimensions)\n",
    "        inst_var = x.var(dim=[2, 3], keepdim=True, unbiased=False)\n",
    "        # Compute batch variance (over batch and spatial dimensions)\n",
    "        batch_var = x.var(dim=[0, 2, 3], keepdim=True, unbiased=False)\n",
    "        # Compute the denominator using a max between the batch std and a modulated version of x plus instance std\n",
    "        denom = torch.max(torch.sqrt(batch_var + self.eps), self.v * x + torch.sqrt(inst_var + self.eps))\n",
    "        return (x / denom) * self.gamma + self.beta\n",
    "\n",
    "class ECALayer(nn.Module):\n",
    "    def __init__(self, channels, gamma=2, b=1):\n",
    "        super().__init__()\n",
    "        t = int(abs((np.log2(channels) + b) / gamma))\n",
    "        k = t if t % 2 else t + 1\n",
    "        self.avg_pool = nn.AdaptiveAvgPool2d(1)\n",
    "        self.conv = nn.Conv1d(1, 1, kernel_size=k, padding=k//2, bias=False)\n",
    "        self.sigmoid = nn.Sigmoid()\n",
    "    def forward(self, x):\n",
    "        y = self.avg_pool(x)\n",
    "        y = self.conv(y.squeeze(-1).transpose(-1, -2))\n",
    "        y = y.transpose(-1, -2).unsqueeze(-1)\n",
    "        y = self.sigmoid(y)\n",
    "\n",
    "\n",
    "class PSDGuidedFusion(nn.Module):\n",
    "    def __init__(self, channels=16):\n",
    "        super().__init__()\n",
    "        self.psd_proj = nn.Conv2d(channels, channels, kernel_size=1)\n",
    "        self.var_proj = nn.Conv2d(channels, channels, kernel_size=1)\n",
    "        self.raw_proj = nn.Conv2d(channels, channels, kernel_size=1)\n",
    "        \n",
    "        # Learn frequency-dependent fusion weights\n",
    "        self.freq_att = nn.Sequential(\n",
    "            nn.AdaptiveAvgPool2d(1),\n",
    "            nn.Conv2d(channels, channels // 4, 1),\n",
    "            nn.GELU(),\n",
    "            nn.Conv2d(channels // 4, 3, 1),\n",
    "            nn.Softmax(dim=1)\n",
    "        )\n",
    "\n",
    "    def forward(self, raw, var, psd):\n",
    "        # Project to common space\n",
    "        p_psd = self.psd_proj(psd)\n",
    "        p_var = self.var_proj(var)\n",
    "        p_raw = self.raw_proj(raw)\n",
    "        \n",
    "        # Frequency-adaptive weighting\n",
    "        att_weights = self.freq_att(p_psd)  # Expected shape: [B, 3, 1, 1]\n",
    "        att0 = att_weights[:, 0:1, :, :]  # Shape: [B, 1, 1, 1]\n",
    "        att1 = att_weights[:, 1:2, :, :]\n",
    "        att2 = att_weights[:, 2:3, :, :]\n",
    "        \n",
    "        fused = att0 * p_raw + att1 * p_var + att2 * p_psd\n",
    "        \n",
    "        return fused\n",
    "\n",
    "\n",
    "###############################################\n",
    "# 2. Define the CNN Model that Fuses Statistical Features\n",
    "###############################################\n",
    "class CNNFusionModel(nn.Module):\n",
    "    def __init__(self):\n",
    "        super(CNNFusionModel, self).__init__()\n",
    "        fusion_channels = 16\n",
    "\n",
    "        # Projection layers to map 1-channel maps to fusion_channels\n",
    "        self.raw_proj_conv = nn.Conv2d(1, fusion_channels, kernel_size=3, padding=1)\n",
    "        self.var_proj_conv = nn.Conv2d(1, fusion_channels, kernel_size=3, padding=1)\n",
    "        self.psd_proj_conv = nn.Conv2d(1, fusion_channels, kernel_size=3, padding=1)\n",
    "\n",
    "        # PSD-guided fusion module\n",
    "        self.psd_guided_fusion = PSDGuidedFusion(channels=fusion_channels)\n",
    "\n",
    "        # CNN backbone: Note that the input now has fusion_channels instead of 3\n",
    "        self.conv1 = nn.Sequential(\n",
    "            nn.Conv2d(fusion_channels, 16, kernel_size=3, padding=1),\n",
    "            nn.ReLU(),\n",
    "            nn.MaxPool2d(2)  # Halve spatial dimensions.\n",
    "        )\n",
    "        self.conv2 = nn.Sequential(\n",
    "            nn.Conv2d(16, 32, kernel_size=3, padding=1),\n",
    "            nn.ReLU(),\n",
    "            nn.MaxPool2d(2)\n",
    "        )\n",
    "        self.conv3 = nn.Sequential(\n",
    "            nn.Conv2d(32, 64, kernel_size=3, padding=1),\n",
    "            nn.ReLU(),\n",
    "            nn.MaxPool2d(2)\n",
    "        )\n",
    "        # Assuming input images are 256x256, after 3 pooling layers: 256/8 = 32.\n",
    "        self.fc = nn.Sequential(\n",
    "            nn.Linear(64 * 32 * 32, 128),\n",
    "            nn.ReLU(),\n",
    "            nn.Linear(128, 1)  # Predict SNR (in dB)\n",
    "        )\n",
    "\n",
    "    def forward(self, x):\n",
    "        # x: (B, 1, H, W) – raw image\n",
    "        B, C, H, W = x.size()\n",
    "\n",
    "        # Compute Local Variance Map (still single channel)\n",
    "        local_var = self.compute_local_variance(x)  # (B, 1, H, W)\n",
    "\n",
    "        # Compute PSD Map (log scale, single channel)\n",
    "        psd_map = self.compute_psd_map(x)           # (B, 1, H, W)\n",
    "\n",
    "        # Project each map to fusion_channels\n",
    "        raw_16 = self.raw_proj_conv(x)         # (B, fusion_channels, H, W)\n",
    "        var_16 = self.var_proj_conv(local_var)   # (B, fusion_channels, H, W)\n",
    "        psd_16 = self.psd_proj_conv(psd_map)     # (B, fusion_channels, H, W)\n",
    "\n",
    "        # Fuse the features using PSDGuidedFusion\n",
    "        fused = self.psd_guided_fusion(raw_16, var_16, psd_16)  # (B, fusion_channels, H, W)\n",
    "\n",
    "        # Pass the fused representation through the CNN backbone\n",
    "        out = self.conv1(fused)\n",
    "        out = self.conv2(out)\n",
    "        out = self.conv3(out)\n",
    "        out = out.view(B, -1)\n",
    "        out = self.fc(out)\n",
    "        return out\n",
    "\n",
    "    def compute_local_variance(self, x):\n",
    "        # Compute the local variance using a sliding window (kernel_size=7)\n",
    "        kernel_size = 7\n",
    "        pad = kernel_size // 2\n",
    "        mean = F.avg_pool2d(x, kernel_size=kernel_size, stride=1, padding=pad)\n",
    "        mean_sq = F.avg_pool2d(x * x, kernel_size=kernel_size, stride=1, padding=pad)\n",
    "        variance = mean_sq - mean * mean\n",
    "        return variance\n",
    "\n",
    "    def compute_psd_map(self, x, eps=1e-8, fft_shift=True, normalize=True):\n",
    "        \"\"\"\n",
    "        Compute the log power spectral density (PSD) map from an image.\n",
    "    \n",
    "        Args:\n",
    "            x (Tensor): Input tensor with shape (B, C, H, W).\n",
    "            eps (float): Small constant for numerical stability in the log transform.\n",
    "            fft_shift (bool): If True, applies FFT shift to center the zero-frequency component.\n",
    "            normalize (bool): If True, normalizes the log PSD map per image to zero mean and unit variance.\n",
    "    \n",
    "        Returns:\n",
    "            Tensor: Log PSD map with shape (B, 1, H, W).\n",
    "        \"\"\"\n",
    "        B, C, H, W = x.shape\n",
    "\n",
    "        # Convert to grayscale if input has multiple channels (assumes RGB)\n",
    "        if C > 1:\n",
    "            x = 0.299 * x[:, 0:1] + 0.587 * x[:, 1:2] + 0.114 * x[:, 2:3]\n",
    "\n",
    "        fft = torch.fft.fft2(x)\n",
    "        if fft_shift:\n",
    "            fft = torch.fft.fftshift(fft, dim=(-2, -1))\n",
    "        psd = torch.abs(fft) ** 2\n",
    "        psd_log = torch.log(psd + eps)\n",
    "\n",
    "        if normalize:\n",
    "            mean = psd_log.mean(dim=(-2, -1), keepdim=True)\n",
    "            std = psd_log.std(dim=(-2, -1), keepdim=True) + eps\n",
    "            psd_log = (psd_log - mean) / std\n",
    "\n",
    "        if psd_log.dim() == 3:\n",
    "            psd_log = psd_log.unsqueeze(1)\n",
    "\n",
    "        return psd_log\n",
    "\n",
    "\n",
    "\n",
    "###############################################\n",
    "# 3. Create Dataset and DataLoader\n",
    "###############################################\n",
    "images_dir = r'C:\\Users\\lewka\\deep_learning\\SEM Deep Learning Multiclass Noise Level Classification with Data Augmentation (IEEE)\\SEM_images\\Cropped\\Biofilm SEM Dataset\\Noisy'\n",
    "labels_csv = r\"C:\\Users\\lewka\\deep_learning\\SEM Deep Learning Multiclass Noise Level Classification with Data Augmentation (IEEE)\\SEM_images\\Cropped\\Biofilm SEM Dataset\\Label\\labels.csv\"\n",
    "\n",
    "dataset = SEMDataset(images_dir, labels_csv)\n",
    "dataloader = DataLoader(dataset, batch_size=16, shuffle=True)\n",
    "\n",
    "###############################################\n",
    "# 4. Instantiate Model, Loss, and Optimizer\n",
    "###############################################\n",
    "device = torch.device(\"cuda\" if torch.cuda.is_available() else \"cpu\")\n",
    "model = CNNFusionModel().to(device)\n",
    "criterion = nn.MSELoss()  # Mean Squared Error Loss for regression\n",
    "optimizer = torch.optim.Adam(model.parameters(), lr=0.001)\n",
    "\n",
    "###############################################\n",
    "# 5. Training Loop\n",
    "###############################################\n",
    "\n",
    "\n",
    "num_epochs = 100\n",
    "for epoch in range(num_epochs):\n",
    "    model.train()\n",
    "    epoch_loss = 0.0\n",
    "    # Wrap the dataloader with tqdm for a progress bar per epoch.\n",
    "    for images, labels in tqdm(dataloader, desc=f\"Epoch {epoch+1}/{num_epochs}\"):\n",
    "        images = images.to(device)\n",
    "        # Ensure images have shape (B, 1, H, W); if not, add a channel dimension.\n",
    "        if images.ndim == 3:\n",
    "            images = images.unsqueeze(1)\n",
    "        # Convert labels to tensor.\n",
    "        labels = torch.as_tensor(labels, dtype=torch.float32, device=device).unsqueeze(1)\n",
    "        \n",
    "        optimizer.zero_grad()\n",
    "        predicted_snr = model(images)\n",
    "        loss = criterion(predicted_snr, labels)\n",
    "        loss.backward()\n",
    "        optimizer.step()\n",
    "        epoch_loss += loss.item() * images.size(0)\n",
    "    \n",
    "    epoch_loss /= len(dataset)\n",
    "    print(f\"Epoch {epoch+1}/{num_epochs}, Loss: {epoch_loss:.6f}\")\n",
    "\n",
    "\n",
    "###############################################\n",
    "# 6. Evaluate on a Batch After Training\n",
    "###############################################\n",
    "model.eval()\n",
    "with torch.no_grad():\n",
    "    for images, labels in dataloader:\n",
    "        images = images.to(device)\n",
    "        if images.ndim == 3:\n",
    "            images = images.unsqueeze(1)\n",
    "        predicted_snr = model(images)\n",
    "        print(\"Predicted SNR values (dB):\", predicted_snr.squeeze().detach().cpu().numpy())\n",
    "        print(\"Ground truth SNR (dB):\", labels)\n",
    "        break\n"
   ]
  },
  {
   "cell_type": "code",
   "execution_count": null,
   "id": "c6433168-cee0-4249-88d5-4d481c9264ab",
   "metadata": {},
   "outputs": [],
   "source": []
  }
 ],
 "metadata": {
  "kernelspec": {
   "display_name": "Python 3 (ipykernel)",
   "language": "python",
   "name": "python3"
  },
  "language_info": {
   "codemirror_mode": {
    "name": "ipython",
    "version": 3
   },
   "file_extension": ".py",
   "mimetype": "text/x-python",
   "name": "python",
   "nbconvert_exporter": "python",
   "pygments_lexer": "ipython3",
   "version": "3.12.8"
  }
 },
 "nbformat": 4,
 "nbformat_minor": 5
}
